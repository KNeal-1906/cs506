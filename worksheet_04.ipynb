{
 "cells": [
  {
   "cell_type": "markdown",
   "metadata": {},
   "source": [
    "# Worksheet 04\n",
    "\n",
    "Name: Kenise Neal\n",
    "\n",
    "UID: U55010739\n",
    "\n",
    "### Topics\n",
    "\n",
    "- Distance & Similarity"
   ]
  },
  {
   "cell_type": "markdown",
   "metadata": {},
   "source": [
    "### Distance & Similarity\n",
    "\n",
    "#### Part 1\n",
    "\n",
    "a) In the minkowski distance, describe what the parameters p and d are."
   ]
  },
  {
   "cell_type": "markdown",
   "metadata": {},
   "source": [
    "p is the parameter and d is the dimension of the space"
   ]
  },
  {
   "cell_type": "markdown",
   "metadata": {},
   "source": [
    "b) In your own words describe the difference between the Euclidean distance and the Manhattan distance."
   ]
  },
  {
   "cell_type": "markdown",
   "metadata": {},
   "source": [
    "Euclidean distance is the shortest path between the start and end which results in a straight line between the two. Manhattan distance is the sum of all absolute distances between all between corresponding coordinates of two points."
   ]
  },
  {
   "cell_type": "markdown",
   "metadata": {},
   "source": [
    "Consider A = (0, 0) and B = (1, 1). When:\n",
    "\n",
    "- p = 1, d(A, B) = 2\n",
    "- p = 2, d(A, B) = $\\sqrt{2} = 1.41$\n",
    "- p = 3, d(A, B) = $2^{1/3} = 1.26$\n",
    "- p = 4, d(A, B) = $2^{1/4} = 1.19$\n",
    "\n",
    "c) Describe what you think distance would look like when p is very large."
   ]
  },
  {
   "cell_type": "markdown",
   "metadata": {},
   "source": [
    "The larger p gets, the closer d(A,B) gets to 0 (but never touches 0)."
   ]
  },
  {
   "cell_type": "markdown",
   "metadata": {},
   "source": [
    "d) Is the minkowski distance still a distance function when p < 1? Expain why / why not."
   ]
  },
  {
   "cell_type": "markdown",
   "metadata": {},
   "source": [
    "No, because it is not a it violates the triangle inequality, therefore when p < 1, it is not a metric."
   ]
  },
  {
   "cell_type": "markdown",
   "metadata": {},
   "source": [
    "e) when would you use cosine similarity over the euclidan distance?"
   ]
  },
  {
   "cell_type": "markdown",
   "metadata": {},
   "source": [
    "When direction matters more than magnitude."
   ]
  },
  {
   "cell_type": "markdown",
   "metadata": {},
   "source": [
    "f) what does the jaccard distance account for that the manhattan distance doesn't?"
   ]
  },
  {
   "cell_type": "markdown",
   "metadata": {},
   "source": [
    "Jaccard Distance accounts for the size of the intersection of two sets."
   ]
  },
  {
   "cell_type": "markdown",
   "metadata": {},
   "source": [
    "#### Part 2\n",
    "\n",
    "Consider the following two sentences:"
   ]
  },
  {
   "cell_type": "code",
   "execution_count": 21,
   "metadata": {},
   "outputs": [],
   "source": [
    "import numpy as np\n",
    "\n",
    "s1 = \"hello my name is Alice\"  \n",
    "s2 = \"hello my name is Bob\""
   ]
  },
  {
   "cell_type": "markdown",
   "metadata": {},
   "source": [
    "using the union of words from both sentences, we can represent each sentence as a vector. Each element of the vector represents the presence or absence of the word at that index.\n",
    "\n",
    "In this example, the union of words is (\"hello\", \"my\", \"name\", \"is\", \"Alice\", \"Bob\") so we can represent the above sentences as such:"
   ]
  },
  {
   "cell_type": "code",
   "execution_count": 9,
   "metadata": {},
   "outputs": [],
   "source": [
    "v1 = [1,    1, 1,   1, 1,    0]\n",
    "#     hello my name is Alice\n",
    "v2 = [1,    1, 1,   1, 0, 1]\n",
    "#     hello my name is    Bob"
   ]
  },
  {
   "cell_type": "markdown",
   "metadata": {},
   "source": [
    "Programmatically, we can do the following:"
   ]
  },
  {
   "cell_type": "code",
   "execution_count": 10,
   "metadata": {},
   "outputs": [
    {
     "name": "stdout",
     "output_type": "stream",
     "text": [
      "['hello', 'is', 'name', 'Bob', 'Alice', 'my']\n",
      "[1, 1, 1, 0, 1, 1]\n"
     ]
    }
   ],
   "source": [
    "corpus = [s1, s2]\n",
    "all_words = list(set([item for x in corpus for item in x.split()]))\n",
    "print(all_words)\n",
    "v1 = [1 if x in s1 else 0 for x in all_words]\n",
    "print(v1)"
   ]
  },
  {
   "cell_type": "markdown",
   "metadata": {},
   "source": [
    "Let's add a new sentence to our corpus:"
   ]
  },
  {
   "cell_type": "code",
   "execution_count": 11,
   "metadata": {},
   "outputs": [],
   "source": [
    "s3 = \"hi my name is Claude\"\n",
    "corpus.append(s3)"
   ]
  },
  {
   "cell_type": "markdown",
   "metadata": {},
   "source": [
    "a) What is the new union of words used to represent s1, s2, and s3?"
   ]
  },
  {
   "cell_type": "code",
   "execution_count": 12,
   "metadata": {},
   "outputs": [
    {
     "name": "stdout",
     "output_type": "stream",
     "text": [
      "['Claude', 'hello', 'is', 'name', 'Bob', 'Alice', 'hi', 'my']\n"
     ]
    }
   ],
   "source": [
    "all_words = list(set([item for x in corpus for item in x.split()]))\n",
    "print(all_words)"
   ]
  },
  {
   "cell_type": "markdown",
   "metadata": {},
   "source": [
    "b) Represent s1, s2, and s3 as vectors as above, using this new set of words."
   ]
  },
  {
   "cell_type": "code",
   "execution_count": 13,
   "metadata": {},
   "outputs": [
    {
     "name": "stdout",
     "output_type": "stream",
     "text": [
      "[0, 1, 1, 1, 0, 1, 0, 1]\n",
      "[0, 1, 1, 1, 1, 0, 0, 1]\n",
      "[1, 0, 1, 1, 0, 0, 1, 1]\n"
     ]
    }
   ],
   "source": [
    "v1 = [1 if x in s1 else 0 for x in all_words]\n",
    "v2 = [1 if x in s2 else 0 for x in all_words]\n",
    "v3 = [1 if x in s3 else 0 for x in all_words]\n",
    "print(v1)\n",
    "print(v2)\n",
    "print(v3)"
   ]
  },
  {
   "cell_type": "markdown",
   "metadata": {},
   "source": [
    "c) Write a function that computes the manhattan distance between two vectors. Which pair of vectors are the most similar under that distance function?"
   ]
  },
  {
   "cell_type": "code",
   "execution_count": 14,
   "metadata": {},
   "outputs": [],
   "source": [
    "def minkowski_dist(x,y,p):\n",
    "    sum = 0\n",
    "    for a,b in zip(x,y):\n",
    "        sum = (abs(a - b)**p) + sum\n",
    "    return (sum**(1/p))\n",
    "\n",
    "def manhattan_dist(x,y):\n",
    "    return minkowski_dist(x,y,1)"
   ]
  },
  {
   "cell_type": "code",
   "execution_count": 15,
   "metadata": {
    "scrolled": true
   },
   "outputs": [
    {
     "name": "stdout",
     "output_type": "stream",
     "text": [
      "2.0\n",
      "4.0\n",
      "4.0\n",
      "\n",
      "The two vectors that are the most similar under the manhattan distance function is vector 1 and vector 2.\n"
     ]
    }
   ],
   "source": [
    "print(manhattan_dist(v1,v2))\n",
    "print(manhattan_dist(v2,v3))\n",
    "print(manhattan_dist(v3,v1))\n",
    "print(\"\")\n",
    "print(\"The two vectors that are the most similar under the manhattan distance function is vector 1 and vector 2.\")"
   ]
  },
  {
   "cell_type": "markdown",
   "metadata": {},
   "source": [
    "d) Create a matrix of all these vectors (row major) and add the following sentences in vector form:\n",
    "\n",
    "- \"hi Alice\"\n",
    "- \"hello Claude\"\n",
    "- \"Bob my name is Claude\"\n",
    "- \"hi Claude my name is Alice\"\n",
    "- \"hello Bob\""
   ]
  },
  {
   "cell_type": "code",
   "execution_count": 29,
   "metadata": {},
   "outputs": [
    {
     "name": "stdout",
     "output_type": "stream",
     "text": [
      "[[0 0 0 0 0 1 1 0]\n",
      " [1 1 0 0 0 0 0 0]\n",
      " [1 0 1 1 1 0 0 1]\n",
      " [1 0 1 1 0 1 1 1]\n",
      " [0 1 0 0 1 0 0 0]]\n"
     ]
    }
   ],
   "source": [
    "corpus = [ \"hi Alice\", \"hello Claude\", \"Bob my name is Claude\", \"hi Claude my name is Alice\", \"hello Bob\"]\n",
    "\n",
    "all_words_2 = list(set([item for x in corpus for item in x.split()]))\n",
    "\n",
    "v4 = [1 if x in corpus[0] else 0 for x in all_words_2]\n",
    "v5 = [1 if x in corpus[1] else 0 for x in all_words_2]\n",
    "v6 = [1 if x in corpus[2] else 0 for x in all_words_2]\n",
    "v7 = [1 if x in corpus[3] else 0 for x in all_words_2]\n",
    "v8 = [1 if x in corpus[4] else 0 for x in all_words_2]\n",
    "\n",
    "matrix = np.mat([v4, v5, v6,v7,v8])\n",
    "print(matrix)"
   ]
  },
  {
   "cell_type": "markdown",
   "metadata": {},
   "source": [
    "e) How many rows and columns does this matrix have?"
   ]
  },
  {
   "cell_type": "code",
   "execution_count": 33,
   "metadata": {},
   "outputs": [
    {
     "name": "stdout",
     "output_type": "stream",
     "text": [
      "Rows: 5\n",
      "Cols: 8\n"
     ]
    }
   ],
   "source": [
    "dim = np.shape(matrix)\n",
    "rows, cols = dim\n",
    "\n",
    "# We have 5 rows and 8 cols\n",
    "\n",
    "print(\"Rows:\", rows)\n",
    "print(\"Cols:\", cols)"
   ]
  },
  {
   "cell_type": "markdown",
   "metadata": {},
   "source": [
    "f) When using the Manhattan distance, which two sentences are the most similar?"
   ]
  },
  {
   "cell_type": "code",
   "execution_count": 34,
   "metadata": {
    "scrolled": true
   },
   "outputs": [
    {
     "name": "stdout",
     "output_type": "stream",
     "text": [
      "Comparing v4 to v5: 4.0\n",
      "Comparing v4 to v6: 7.0\n",
      "Comparing v4 to v7: 4.0\n",
      "Comparing v4 to v8: 4.0\n",
      "Comparing v5 to v4: 4.0\n",
      "Comparing v5 to v6: 5.0\n",
      "Comparing v5 to v7: 6.0\n",
      "Comparing v5 to v8: 2.0\n",
      "Comparing v6 to v5: 5.0\n",
      "Comparing v6 to v4: 7.0\n",
      "Comparing v6 to v7: 3.0\n",
      "Comparing v6 to v8: 5.0\n",
      "Comparing v7 to v5: 6.0\n",
      "Comparing v7 to v6: 3.0\n",
      "Comparing v7 to v4: 4.0\n",
      "Comparing v7 to v8: 8.0\n",
      "Comparing v8 to v5: 2.0\n",
      "Comparing v8 to v6: 5.0\n",
      "Comparing v8 to v7: 8.0\n",
      "Comparing v8 to v4: 4.0\n"
     ]
    }
   ],
   "source": [
    "# Comparing v4 to all other v's\n",
    "print(\"Comparing v4 to v5:\", manhattan_dist(v4,v5))\n",
    "print(\"Comparing v4 to v6:\", manhattan_dist(v4,v6))\n",
    "print(\"Comparing v4 to v7:\", manhattan_dist(v4,v7))\n",
    "print(\"Comparing v4 to v8:\", manhattan_dist(v4,v8))\n",
    "\n",
    "# Comparing v5 to all other v's\n",
    "print(\"Comparing v5 to v4:\", manhattan_dist(v5,v4))\n",
    "print(\"Comparing v5 to v6:\", manhattan_dist(v5,v6))\n",
    "print(\"Comparing v5 to v7:\", manhattan_dist(v5,v7))\n",
    "print(\"Comparing v5 to v8:\", manhattan_dist(v5,v8))\n",
    "\n",
    "# Comparing v6 to all other v's\n",
    "print(\"Comparing v6 to v5:\", manhattan_dist(v6,v5))\n",
    "print(\"Comparing v6 to v4:\", manhattan_dist(v4,v6))\n",
    "print(\"Comparing v6 to v7:\", manhattan_dist(v6,v7))\n",
    "print(\"Comparing v6 to v8:\", manhattan_dist(v6,v8))\n",
    "\n",
    "# Comparing v7 to all other v's\n",
    "print(\"Comparing v7 to v5:\", manhattan_dist(v7,v5))\n",
    "print(\"Comparing v7 to v6:\", manhattan_dist(v7,v6))\n",
    "print(\"Comparing v7 to v4:\", manhattan_dist(v4,v7))\n",
    "print(\"Comparing v7 to v8:\", manhattan_dist(v7,v8))\n",
    "\n",
    "# Comparing v8 to all other v's\n",
    "print(\"Comparing v8 to v5:\", manhattan_dist(v8,v5))\n",
    "print(\"Comparing v8 to v6:\", manhattan_dist(v8,v6))\n",
    "print(\"Comparing v8 to v7:\", manhattan_dist(v8,v7))\n",
    "print(\"Comparing v8 to v4:\", manhattan_dist(v4,v8))\n"
   ]
  },
  {
   "cell_type": "markdown",
   "metadata": {},
   "source": [
    "According to the comparasions above, v5 and v8 are the most similar. \"Hello Claude\" and \"Hello Bob\""
   ]
  }
 ],
 "metadata": {
  "kernelspec": {
   "display_name": "Python 3",
   "language": "python",
   "name": "python3"
  },
  "language_info": {
   "codemirror_mode": {
    "name": "ipython",
    "version": 3
   },
   "file_extension": ".py",
   "mimetype": "text/x-python",
   "name": "python",
   "nbconvert_exporter": "python",
   "pygments_lexer": "ipython3",
   "version": "3.8.8"
  },
  "vscode": {
   "interpreter": {
    "hash": "76ca05dc3ea24b2e3b98cdb7774adfbb40773424bf5109b477fd793f623715af"
   }
  }
 },
 "nbformat": 4,
 "nbformat_minor": 2
}
